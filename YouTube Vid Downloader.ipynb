{
 "cells": [
  {
   "cell_type": "code",
   "execution_count": 1,
   "metadata": {},
   "outputs": [],
   "source": [
    "import youtube_dl\n",
    "import tkinter as tk\n"
   ]
  },
  {
   "cell_type": "code",
   "execution_count": 5,
   "metadata": {},
   "outputs": [
    {
     "name": "stdout",
     "output_type": "stream",
     "text": [
      "[youtube] AEPv5NdTHE8: Downloading webpage\n",
      "[youtube] AEPv5NdTHE8: Downloading js player vflset\n",
      "[youtube] AEPv5NdTHE8: Downloading js player vflset\n",
      "[youtube] AEPv5NdTHE8: Downloading MPD manifest\n",
      "[download] Destination: videos\\Make your own YouTube Downloader using python _ 10 min tutorial.mp4\n",
      "[download] 100% of 97.13MiB in 11:03                  \n"
     ]
    }
   ],
   "source": [
    "opts = {'outtmpl':'./videos/%(title)s.%(ext)s',}\n",
    "\n",
    "def ytdl(x):\n",
    "    with youtube_dl.YoutubeDL(opts) as y:\n",
    "        t = y.download([x])\n",
    "\n",
    "box = tk.Tk()\n",
    "box.title(\"Youtube downloader\")\n",
    "box.geometry('300x70')\n",
    "\n",
    "url = tk.Entry(box)\n",
    "url.pack(padx=5,pady=5)\n",
    "\n",
    "def ytl():\n",
    "    v = url.get()\n",
    "    url.delete(0,\"end\")\n",
    "    if len(v) != 0:\n",
    "        ytdl(v)\n",
    "    else:\n",
    "        print(\"not done!!\")\n",
    "\n",
    "down = tk.Button(box, text=\"Download\", command = ytl)\n",
    "down.pack(padx=5,pady=5)\n",
    "\n",
    "box.mainloop()"
   ]
  },
  {
   "cell_type": "code",
   "execution_count": null,
   "metadata": {},
   "outputs": [],
   "source": []
  }
 ],
 "metadata": {
  "kernelspec": {
   "display_name": "Python 3",
   "language": "python",
   "name": "python3"
  },
  "language_info": {
   "codemirror_mode": {
    "name": "ipython",
    "version": 3
   },
   "file_extension": ".py",
   "mimetype": "text/x-python",
   "name": "python",
   "nbconvert_exporter": "python",
   "pygments_lexer": "ipython3",
   "version": "3.7.3"
  }
 },
 "nbformat": 4,
 "nbformat_minor": 2
}
